{
 "cells": [
  {
   "cell_type": "code",
   "execution_count": null,
   "metadata": {},
   "outputs": [],
   "source": [
    "# default_exp readuniprot"
   ]
  },
  {
   "cell_type": "markdown",
   "metadata": {},
   "source": [
    "# readuniprot\n",
    "\n",
    "> Parse .dat files (Uniprot/Swissprot flat file format)"
   ]
  },
  {
   "cell_type": "code",
   "execution_count": null,
   "metadata": {},
   "outputs": [],
   "source": [
    "#hide\n",
    "%load_ext autoreload\n",
    "%autoreload 2\n",
    "from nbdev import show_doc"
   ]
  },
  {
   "cell_type": "code",
   "execution_count": null,
   "metadata": {},
   "outputs": [],
   "source": [
    "#export\n",
    "\n",
    "import collections\n",
    "import csv\n",
    "import itertools\n",
    "import random\n",
    "import re\n",
    "\n",
    "from proteinscan import utils"
   ]
  },
  {
   "cell_type": "code",
   "execution_count": null,
   "metadata": {},
   "outputs": [],
   "source": [
    "# export\n",
    "\n",
    "def iterDat(datFPath) :\n",
    "    \"\"\"\n",
    "    Iterator yielding a list of lines for each entry in the .dat file.\n",
    "    \"\"\"\n",
    "    with utils.openGzipOrText(datFPath) as f :\n",
    "        for (isEnd,it) in itertools.groupby(f, lambda ln : ln.strip()=='//') :\n",
    "            if not isEnd :\n",
    "                yield(list(it))\n",
    "\n",
    "def datEntryLnsWithCode(datEntry,code) :\n",
    "    \"Returns a list of the lines in a .dat file entry with the given code.\"\n",
    "    res = []\n",
    "    for ln in datEntry :\n",
    "        ln = ln.strip()\n",
    "        if ln.startswith(code+' ') :\n",
    "            res.append(ln[len(code):].lstrip())\n",
    "    return res\n",
    "\n",
    "def datEntryPrimaryAC(datEntry) :\n",
    "    \"Returns the primary accession number from a .det file entry.\"\n",
    "    acLns = datEntryLnsWithCode(datEntry,'AC')\n",
    "    return acLns[0].split(';')[0]"
   ]
  },
  {
   "cell_type": "code",
   "execution_count": null,
   "metadata": {},
   "outputs": [],
   "source": [
    "l = list(iterDat('uniprotTest.dat.gz'))\n",
    "assert (len(l)==185\n",
    "        and len(l[2])==61\n",
    "        and l[2][0]=='ID   002R_IIV3               Reviewed;         458 AA.\\n'\n",
    "        and l[2][10]=='OX   NCBI_TaxID=345201;\\n'\n",
    "        and l[2][-1]=='     QSIDRYFCSL DSNYNSEDED FEYDSDSEDD DSDSEDDC\\n'\n",
    "        and datEntryLnsWithCode(l[2],'DT') ==\n",
    "            ['16-JUN-2009, integrated into UniProtKB/Swiss-Prot.',\n",
    "             '11-JUL-2006, sequence version 1.',\n",
    "             '02-JUN-2021, entry version 28.']\n",
    "        and datEntryPrimaryAC(l[2])=='Q197F8')"
   ]
  },
  {
   "cell_type": "code",
   "execution_count": null,
   "metadata": {},
   "outputs": [],
   "source": [
    "# export\n",
    "\n",
    "def scanDat(datFPath, fn, returnFull=False, **kwargs) :\n",
    "    \"\"\"\n",
    "    Scan a function across each entry in a .dat file, accumulating the results.\n",
    "    If the function returns None, the entry is ignored; otherwise the result\n",
    "    is added to the returned results list. Accepts additional keyword arguments,\n",
    "    which are passed on to the function to be scanned.\n",
    "\n",
    "    If returnFull is True, also returns a list of the corresponding full entries.\n",
    "    \"\"\"\n",
    "    res = []\n",
    "    if returnFull : fullRes = []\n",
    "    for datEntry in iterDat(datFPath) :\n",
    "        item = fn(datEntry, **kwargs)\n",
    "        if item is not None :\n",
    "            res.append(item)\n",
    "            if returnFull :\n",
    "                fullRes.append(datEntry)\n",
    "    return (res,fullRes) if returnFull else res\n",
    "def allPrimaryACsInDat(datFPath) :\n",
    "    \"Returns a list of all primary accession numbers in a .dat file.\"\n",
    "    return scanDat(datFPath,datEntryPrimaryAC)\n"
   ]
  },
  {
   "cell_type": "code",
   "execution_count": null,
   "metadata": {},
   "outputs": [],
   "source": [
    "acs = allPrimaryACsInDat('uniprotTest.dat.gz')\n",
    "assert (len(acs)==185\n",
    "        and acs[:5]==['Q6GZX4', 'Q6GZX3', 'Q197F8', 'Q197F7', 'Q6GZX2']\n",
    "        and acs[-5:]==['P0C9G3', 'P0C9G4', 'P0C9G1', 'P18559', 'P0C9G6'])"
   ]
  },
  {
   "cell_type": "code",
   "execution_count": null,
   "metadata": {},
   "outputs": [],
   "source": []
  }
 ],
 "metadata": {
  "kernelspec": {
   "display_name": "Python 3",
   "language": "python",
   "name": "python3"
  }
 },
 "nbformat": 4,
 "nbformat_minor": 2
}
