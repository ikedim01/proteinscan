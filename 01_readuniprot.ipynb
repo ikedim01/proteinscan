{
 "cells": [
  {
   "cell_type": "code",
   "execution_count": null,
   "metadata": {},
   "outputs": [],
   "source": [
    "# default_exp readuniprot"
   ]
  },
  {
   "cell_type": "markdown",
   "metadata": {},
   "source": [
    "# readuniprot\n",
    "\n",
    "> Parse .dat files (Uniprot/Swissprot flat file format)"
   ]
  },
  {
   "cell_type": "code",
   "execution_count": null,
   "metadata": {},
   "outputs": [],
   "source": [
    "#hide\n",
    "%load_ext autoreload\n",
    "%autoreload 2\n",
    "from nbdev import show_doc"
   ]
  },
  {
   "cell_type": "code",
   "execution_count": null,
   "metadata": {},
   "outputs": [],
   "source": [
    "#export\n",
    "\n",
    "import gzip\n",
    "import itertools\n",
    "\n",
    "from proteinscan import utils"
   ]
  },
  {
   "cell_type": "code",
   "execution_count": null,
   "metadata": {},
   "outputs": [],
   "source": [
    "# export\n",
    "\n",
    "def iterDat(datFPath) :\n",
    "    \"\"\"\n",
    "    Iterator yielding a list of lines for each entry in the .dat file.\n",
    "    \"\"\"\n",
    "    with utils.openGzipOrText(datFPath) as f :\n",
    "        for (isEnd,it) in itertools.groupby(f, lambda ln : ln.strip()=='//') :\n",
    "            if not isEnd :\n",
    "                yield(list(it))"
   ]
  },
  {
   "cell_type": "code",
   "execution_count": null,
   "metadata": {},
   "outputs": [],
   "source": [
    "l = list(iterDat('uniprotTest.dat.gz'))\n",
    "assert (len(l)==185\n",
    "        and len(l[2])==61\n",
    "        and l[2][0]=='ID   002R_IIV3               Reviewed;         458 AA.\\n'\n",
    "        and l[2][10]=='OX   NCBI_TaxID=345201;\\n'\n",
    "        and l[2][-1]=='     QSIDRYFCSL DSNYNSEDED FEYDSDSEDD DSDSEDDC\\n')"
   ]
  },
  {
   "cell_type": "code",
   "execution_count": null,
   "metadata": {},
   "outputs": [],
   "source": []
  }
 ],
 "metadata": {
  "kernelspec": {
   "display_name": "Python 3",
   "language": "python",
   "name": "python3"
  }
 },
 "nbformat": 4,
 "nbformat_minor": 2
}
